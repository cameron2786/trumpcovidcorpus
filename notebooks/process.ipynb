{
 "cells": [
  {
   "cell_type": "code",
   "execution_count": 1,
   "metadata": {},
   "outputs": [],
   "source": [
    "import warnings\n",
    "warnings.filterwarnings('ignore')\n",
    "from os import listdir\n",
    "from os.path import join, isfile\n",
    "import csv\n",
    "import pandas as pd\n",
    "import re\n",
    "\n",
    "'''\n",
    "    read_file_lines: Helper function for batch_import(). Slices files\n",
    "        into their line-by-line indices and returns a dict of those values for use.\n",
    "        Note: It filters out empty lines.\n",
    "'''\n",
    "def read_file_lines(**kwargs):\n",
    "    lines = [line.rstrip('\\n') for line in open(join(kwargs['path'], kwargs['file']))]\n",
    "    \n",
    "    clean_lines = []\n",
    "    for l in lines:\n",
    "        if l != '':\n",
    "            clean_lines.append(l)\n",
    "        \n",
    "    return clean_lines\n",
    "\n",
    "'''\n",
    "    batch_import: Import all files in directory and process each file per line.\n",
    "        Returns a Dict, where the filename is the key and lines are stored as a\n",
    "        subset keyed array named 'lines'.\n",
    "'''\n",
    "def batch_import(**kwargs):\n",
    "    # Pattern for period number from filename\n",
    "    re_filename = kwargs['regex_filename']\n",
    "    events = []\n",
    "    # Listify files within path, ignore hidden files, look for only defined type\n",
    "    list_of_files = [f for f in listdir(kwargs['path']) if not f.startswith('.') and f.endswith(kwargs['file_type']) and isfile(join(kwargs['path'], f))]\n",
    "\n",
    "    # Write list of periods\n",
    "    for f in list_of_files:\n",
    "        event_name = re.findall(re_filename, f)\n",
    "        if event_name[0]:\n",
    "            if not events:\n",
    "                events.append(event_name[0].lower())\n",
    "            elif event_name[0] not in events:\n",
    "                events.append(event_name[0].lower())\n",
    "                \n",
    "    # Write per Event dict with each file as List of lines to parse\n",
    "    dict_files = {}\n",
    "    sorted_list_of_files = sorted(list_of_files)\n",
    "\n",
    "    for f in sorted_list_of_files:\n",
    "        event_filename = re.search(re_filename, f)\n",
    "        e = event_filename[0]\n",
    "        lines = read_file_lines(path=kwargs['path'], file=f)\n",
    "\n",
    "        dict_files.update({ e: \n",
    "                    {\n",
    "                        'lines': lines\n",
    "                    }\n",
    "        })\n",
    "    \n",
    "    return dict_files\n"
   ]
  },
  {
   "cell_type": "code",
   "execution_count": 3,
   "metadata": {
    "scrolled": true
   },
   "outputs": [
    {
     "output_type": "execute_result",
     "data": {
      "text/plain": "['Donald Trump: <05:39>',\n 'Thank you very much everybody. Thank you very much. Before I begin, I’d like to extend my deepest condolences to the victims and families in Milwaukee, Wisconsin. Earlier today, a wicked murderer opened fire at a Molson-Coors Brewing Company plant, taking the lives of five people. A number of people were wounded, some badly wounded. Our hearts break for them and their loved ones. We send our condolences, we’ll be with them and it’s a terrible thing. Terrible thing. So our hearts go out to the people of Wisconsin and to the families. Thank you very much. I’ve just received another briefing from a great group of talented people on the virus that is going around to various parts of the world. We have, through some very good early decisions, decisions that were actually ridiculed at the beginning, we closed up our borders to flights coming in from certain areas. Areas that were hit by the coronavirus and hit pretty hard, and we did it very early.',\n 'Donald Trump: <06:59>']"
     },
     "metadata": {},
     "execution_count": 3
    }
   ],
   "source": [
    "dict_event_lines = batch_import(\n",
    "    regex_filename=r\".{1,}(?=\\.txt)\",\n",
    "    path='../data/organized_by_event',\n",
    "    file_type='txt'\n",
    ")\n",
    "dict_event_lines['01-Feb_26_Coronavirus_Updates']['lines'][:3]"
   ]
  },
  {
   "cell_type": "code",
   "execution_count": 4,
   "metadata": {},
   "outputs": [],
   "source": [
    "'''\n",
    "    Speaker + Timestamp Header:\n",
    "        - Identifies header for text\n",
    "        - (^[a-zA-Z]{1,}\\:\\s\\<(\\d{2}\\:){1,2}\\d{2}\\>)|([a-zA-Z]{1,}\\s\\d{1,}\\:\\s\\<(\\d{2}\\:){1,2}\\d{2}\\>)|([a-zA-Z]{1,}\\s[a-zA-Z]{1,}\\:\\s\\<(\\d{2}\\:){1,2}\\d{2}\\>)\n",
    "        Speaker Tag:\n",
    "            - when found, cut of last 3 string places [:-3]: 'Donald Trump: <', 'Crowd: <'\n",
    "            - (^[a-zA-Z]{1,}\\:\\s\\<)|([a-zA-Z]{1,}\\s\\d{1,}\\:\\s\\<)|([a-zA-Z]{1,}\\s[a-zA-Z]{1,}\\:\\s\\<)\n",
    "        Timestamp Tag:\n",
    "            - when found, cut of first 3 string & last string places [3:-1]: ': <28:05>', ': <01:00:44>'\n",
    "            - \\:\\s\\<(\\d{2}\\:){1,2}\\d{2}\\>\n",
    "    Text:\n",
    "        - when found, cut of the first 2 '<\\n' & last string '\\n' places [2:-1]\n",
    "        - \\>\\n.+\\n\n",
    "    Remove Tags in Text:\n",
    "        - \\<[a-z]{1,}\\s(\\d{2}\\:){1,2}\\d{2}\\>\n",
    "'''\n",
    "def data_organizer(**kwargs):\n",
    "    new_dict = {}\n",
    "    # go thru each file's lines and organize by 1) speaker and 2) time\n",
    "    for event in kwargs['data']:\n",
    "        new_dict.update({ event: {\n",
    "            'speakers':{},\n",
    "            'temporal':[]\n",
    "        } })\n",
    "        index=0\n",
    "        for line in kwargs['data'][event]['lines']:\n",
    "            header = re.findall(kwargs['re_header'], line)\n",
    "            if len(header) > 0:\n",
    "                speaker = re.search(kwargs['re_speaker'], line)\n",
    "                ts = re.search(kwargs['re_ts'], line)\n",
    "                # Organize by speaker\n",
    "                if speaker:\n",
    "                    sp = speaker[0][:-3]\n",
    "                    if sp not in new_dict[event]['speakers']:\n",
    "                        new_dict[event]['speakers'].update({ sp: [kwargs['data'][event]['lines'][index+1]] })\n",
    "                    elif sp in new_dict[event]['speakers']:\n",
    "                        new_dict[event]['speakers'][sp].append(kwargs['data'][event]['lines'][index+1])\n",
    "                # Organize by timestamp\n",
    "                if ts:\n",
    "                    time = ts[0][3:-1]\n",
    "                    new_dict[event]['temporal'].append([(time, sp, kwargs['data'][event]['lines'][index+1])])\n",
    "            index=index+1\n",
    "    return new_dict"
   ]
  },
  {
   "cell_type": "code",
   "execution_count": 5,
   "metadata": {
    "scrolled": true
   },
   "outputs": [
    {
     "output_type": "execute_result",
     "data": {
      "text/plain": "['Well, thank you Mr. Vice President, and thank you, Mr. President for gathering your public health experts here today and for your strong leadership in keeping America safe, and I just want to say I could not be more delighted that you’ve asked the Vice President, my old friend and colleague, to lead this whole of government approach with us under the emergency support function number eight. As of today, we have 15 cases of COVID-19 that have been detected in the United States, with only one new case detected in the last two weeks. We also have three cases among Americans repatriated from Wuhan, and 42 cases among Americans repatriated who had been stuck on the Diamond Princess in Japan. The President’s early and decisive actions, including travel restrictions, have succeeded in buying us incredibly valuable time. This has helped us contain the spread of the virus, handle the cases that we have, and prepare for the possibility that we will need to mitigate broader spread of infections within the United States.',\n 'The President’s actions taken with the strong support of his scientific advisors have proven to be appropriate, wise, and well calibrated to the situation. We’re grateful for the hard work that healthcare workers, first responders, communities, and state and local leaders have put into the response so far. Because of this hard work, and the President’s leadership, the immediate risk to the American public has been and continues be low. Our containment strategy has been working. At the same time, what every one of our experts and leaders have been saying for more than a month now remains true. The degree of risk has the potential to change quickly, and we can expect to see more-',\n 'It has the potential to change quickly, and we can expect to see more cases in the United States. That is why we’ve been reminding the American public, and our state, local, and private sector partners that they should be aware of what a broader response would look like. CDC has recommended that the American public, and especially state and local governments, businesses and other organizations should refresh themselves on how they would respond in the event that the situation worsens. We’re encouraging Americans to learn what future steps might be necessary to keep themselves and their communities safe. Knowing these potential steps now can help keep the risk for you in your community low.']"
     },
     "metadata": {},
     "execution_count": 5
    }
   ],
   "source": [
    "test = data_organizer(\n",
    "    data=dict_event_lines,\n",
    "    re_header=r\"(^[a-zA-Z]{1,}\\:\\s\\<(\\d{2}\\:){1,2}\\d{2}\\>)|([a-zA-Z]{1,}\\s\\d{1,}\\:\\s\\<(\\d{2}\\:){1,2}\\d{2}\\>)|([a-zA-Z]{1,}\\s[a-zA-Z]{1,}\\:\\s\\<(\\d{2}\\:){1,2}\\d{2}\\>)\",\n",
    "    re_speaker=r\"(^[a-zA-Z]{1,}\\:\\s\\<)|([a-zA-Z]{1,}\\s\\d{1,}\\:\\s\\<)|([a-zA-Z]{1,}\\s[a-zA-Z]{1,}\\:\\s\\<)\",\n",
    "    re_ts=r\"\\:\\s\\<(\\d{2}\\:){1,2}\\d{2}\\>\",\n",
    "    re_tags=r\"\\<[a-z]{1,}\\s(\\d{2}\\:){1,2}\\d{2}\\>\"\n",
    ")\n",
    "test['01-Feb_26_Coronavirus_Updates']['speakers']['Alex Azar'][:3]"
   ]
  },
  {
   "cell_type": "code",
   "execution_count": 6,
   "metadata": {},
   "outputs": [
    {
     "output_type": "execute_result",
     "data": {
      "text/plain": "[[('05:39',\n   'Donald Trump',\n   'Thank you very much everybody. Thank you very much. Before I begin, I’d like to extend my deepest condolences to the victims and families in Milwaukee, Wisconsin. Earlier today, a wicked murderer opened fire at a Molson-Coors Brewing Company plant, taking the lives of five people. A number of people were wounded, some badly wounded. Our hearts break for them and their loved ones. We send our condolences, we’ll be with them and it’s a terrible thing. Terrible thing. So our hearts go out to the people of Wisconsin and to the families. Thank you very much. I’ve just received another briefing from a great group of talented people on the virus that is going around to various parts of the world. We have, through some very good early decisions, decisions that were actually ridiculed at the beginning, we closed up our borders to flights coming in from certain areas. Areas that were hit by the coronavirus and hit pretty hard, and we did it very early.')],\n [('06:59',\n   'Donald Trump',\n   'A lot of people thought we shouldn’t have done it that early and we did, and it turned out to be a very good thing. And the number one priority, from our standpoint, is the health and safety of the American people, and that’s the way I viewed it when I made that decision. Because of all we’ve done, the risk to the American people remains very low. We had the greatest experts, really, in the world right here. The people that are called upon by other countries when things like this happen. We’re ready to adapt and we’re ready to do whatever we have to as the disease spreads, if it spreads. As most of you know, the level that we’ve had in our country is very low, and those people are getting better, or we think that in almost all cases the better they are getting.')],\n [('07:51',\n   'Donald Trump',\n   'We have a total of 15. We took in some from Japan, you heard about that, because they’re American citizens and they’re in quarantine, and they’re getting better, too. But we felt we had an obligation to do that. It could have been as many as 42, and we found that it was just an obligation we felt that we had. We could have left them and that would have been very bad. Very bad, I think. American people, and they’re recovering. Of the 15 people, the original 15 as I call them, eight of them have returned to their homes to stay in their homes until fully recovered, one is in the hospital, and five have fully recovered, and one is, we think, in pretty good shape and is between hospital and going home. But we have a total of 15 people and they’re in a process of recovering with some already having fully recovered. We started out by looking at certain things that we’ve been working with the Hill very, very carefully, very strongly, and I think we have very good bipartisan spirit for money. We were asking for 2.5 Billion, and we think that’s a lot, but the Democrats and I guess Senator Schumer wants us to have much more than that. And normally in life, I’d say, “We’ll take it, we’ll take it.” If they want to give more, we’ll do more. We’re going to spend whatever’s appropriate. Hopefully, we’re not going to have to spend so much, because we really think we’ve done a great job in keeping it down to a minimum. And again, we’ve had tremendous success, tremendous success beyond what people would have thought. Now at the same time, you do have some outbreaks in some countries, Italy and various countries are having some difficulty.')]]"
     },
     "metadata": {},
     "execution_count": 6
    }
   ],
   "source": [
    "test['01-Feb_26_Coronavirus_Updates']['temporal'][:3]"
   ]
  },
  {
   "cell_type": "code",
   "execution_count": null,
   "metadata": {},
   "outputs": [],
   "source": []
  }
 ],
 "metadata": {
  "kernelspec": {
   "display_name": "Python 3",
   "language": "python",
   "name": "python3"
  },
  "language_info": {
   "codemirror_mode": {
    "name": "ipython",
    "version": 3
   },
   "file_extension": ".py",
   "mimetype": "text/x-python",
   "name": "python",
   "nbconvert_exporter": "python",
   "pygments_lexer": "ipython3",
   "version": "3.7.4-final"
  }
 },
 "nbformat": 4,
 "nbformat_minor": 2
}